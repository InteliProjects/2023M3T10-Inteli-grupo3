{
 "cells": [
  {
   "cell_type": "markdown",
   "metadata": {},
   "source": [
    "## Importando dependências"
   ]
  },
  {
   "cell_type": "code",
   "execution_count": null,
   "metadata": {},
   "outputs": [],
   "source": [
    "!python -m pip install scikit-learn"
   ]
  },
  {
   "cell_type": "code",
   "execution_count": null,
   "metadata": {},
   "outputs": [],
   "source": [
    "import pandas as pd\n",
    "import matplotlib.pyplot as plt\n",
    "import seaborn as sns"
   ]
  },
  {
   "cell_type": "markdown",
   "metadata": {},
   "source": [
    "## Importando dados"
   ]
  },
  {
   "cell_type": "code",
   "execution_count": null,
   "metadata": {},
   "outputs": [],
   "source": [
    "df_main = pd.read_csv('IM_230626_semNP.csv')"
   ]
  },
  {
   "cell_type": "markdown",
   "metadata": {},
   "source": [
    "## Mini Batch KMeans"
   ]
  },
  {
   "cell_type": "markdown",
   "metadata": {},
   "source": [
    "O Mini Batch K-Means é uma variação do algoritmo K-Means, que é usado para agrupamento de dados. O K-Means é um algoritmo muito utilizado para dividir um conjunto de dados em grupos (clusters) com base em características semelhantes. O Mini Batch K-Means é uma versão otimizada do K-Means tradicional que foi projetada para lidar com grandes conjuntos de dados de maneira mais eficiente. Ele requer a elaboração do número de clusters desejados (k) e, em seguida, itera através dos dados para especificar pontos aos clusters e atualizar os centróides dos clusters. O algoritmo continua iterando até que uma convergência seja alcançada ou um número máximo de iterações seja alcançado.\n",
    "O Mini Batch K-Means é importante porque permite que o K-Means seja aplicado a conjuntos de dados muito grandes, nos quais o K-Means tradicional pode ser computacionalmente caro e demorado. Ele também é útil quando os dados estão em fluxo constante, pois permite que os clusters se adaptem gradualmente a novos dados à medida que eles chegam."
   ]
  },
  {
   "cell_type": "code",
   "execution_count": null,
   "metadata": {},
   "outputs": [],
   "source": [
    "import numpy as np\n",
    "from sklearn.cluster import MiniBatchKMeans\n",
    "import matplotlib.pyplot as plt\n",
    "\n",
    "\n",
    "#Análise de cluster (Mini Batch K-Means) com dois clusters\n",
    "n_clusters = 2\n",
    "\n",
    "kmeans = MiniBatchKMeans(n_clusters=n_clusters, random_state=42)\n",
    "\n",
    "df = df_main['Carteira_Servicos'].apply(lambda x: isinstance(x, (int, float)))\n",
    "df = df_main['Carteira_Industrial'].apply(lambda x: isinstance(x, (int, float)))\n",
    "\n",
    "df_main_cleaned = df_main.dropna(subset=['Carteira_Servicos', 'Carteira_Industrial'])\n",
    "\n",
    "kmeans.fit(df_main_cleaned[['Carteira_Servicos', 'Carteira_Industrial']])\n",
    "\n",
    "cluster_labels = kmeans.labels_\n",
    "\n",
    "cluster_centers = kmeans.cluster_centers_\n",
    "\n",
    "#Criação de gráfico de dispersão para visualizar os grupos resultantes\n",
    "plt.figure(figsize=(10, 6))\n",
    "plt.scatter(df_main_cleaned['Carteira_Servicos'], df_main_cleaned['Carteira_Industrial'], c=cluster_labels, cmap='viridis')\n",
    "plt.scatter(cluster_centers[:, 0], cluster_centers[:, 1], s=300, c='red', label='Centros dos Clusters')\n",
    "plt.xlabel('Carteira de Serviços')\n",
    "plt.ylabel('Carteira Industrial')\n",
    "plt.title('Resultado do Mini Batch K-Means')\n",
    "plt.legend()\n",
    "plt.show()"
   ]
  },
  {
   "cell_type": "markdown",
   "metadata": {},
   "source": [
    "O Mini Batch K-Means realizou uma separação entre números zerados ou tendenciando a zero. "
   ]
  }
 ],
 "metadata": {
  "kernelspec": {
   "display_name": "Python 3",
   "language": "python",
   "name": "python3"
  },
  "language_info": {
   "codemirror_mode": {
    "name": "ipython",
    "version": 3
   },
   "file_extension": ".py",
   "mimetype": "text/x-python",
   "name": "python",
   "nbconvert_exporter": "python",
   "pygments_lexer": "ipython3",
   "version": "3.11.4"
  },
  "orig_nbformat": 4
 },
 "nbformat": 4,
 "nbformat_minor": 2
}
