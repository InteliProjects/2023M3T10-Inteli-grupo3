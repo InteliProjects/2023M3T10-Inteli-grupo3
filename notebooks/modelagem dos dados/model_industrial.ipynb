{
 "cells": [
  {
   "cell_type": "markdown",
   "metadata": {},
   "source": [
    "## Importando dependências"
   ]
  },
  {
   "cell_type": "code",
   "execution_count": null,
   "metadata": {},
   "outputs": [],
   "source": [
    "!python -m pip install scikit-learn"
   ]
  },
  {
   "cell_type": "code",
   "execution_count": null,
   "metadata": {},
   "outputs": [],
   "source": [
    "import pandas as pd\n",
    "import matplotlib.pyplot as plt\n",
    "import seaborn as sns"
   ]
  },
  {
   "cell_type": "markdown",
   "metadata": {},
   "source": [
    "## Importando dados"
   ]
  },
  {
   "cell_type": "code",
   "execution_count": null,
   "metadata": {},
   "outputs": [],
   "source": [
    "df_main = pd.read_csv('data/IM_230626_semNP.csv')"
   ]
  },
  {
   "cell_type": "markdown",
   "metadata": {},
   "source": [
    "## Carteira Industrial"
   ]
  },
  {
   "cell_type": "markdown",
   "metadata": {},
   "source": [
    "A métrica utilizada será a taxa de inadimplência, calculada pela carteira de direitos de aquisição inadimplentes dividido pelo patrimônio líquido"
   ]
  },
  {
   "cell_type": "code",
   "execution_count": null,
   "metadata": {},
   "outputs": [],
   "source": [
    "#Cálculo da taxa de inadimplência em df_main, onde a taxa é definida pela divisão da coluna \"Carteira_Direitos_Aquisicao_Inadimplentes\" pela coluna \"Patrimonio_Liquido\". \n",
    "df_main = df_main.dropna(subset=[\"Patrimonio_Liquido\"])\n",
    "inadimplentes = df_main[\"Carteira_Direitos_Aquisicao_Inadimplentes\"]\n",
    "patrimonio_liquido = df_main[\"Patrimonio_Liquido\"]\n",
    "taxa_inadimplencia = inadimplentes / patrimonio_liquido\n",
    "\n",
    "#Adição da taxa como uma nova coluna no DataFrame\n",
    "df_main = df_main.assign(taxa_inadimplencia_series=taxa_inadimplencia)"
   ]
  },
  {
   "cell_type": "code",
   "execution_count": null,
   "metadata": {},
   "outputs": [],
   "source": [
    "fundos = df_main[\n",
    "    (df_main['taxa_inadimplencia_series'] != 0) &\n",
    "    df_main['taxa_inadimplencia_series'].notna()\n",
    "]\n",
    "\n",
    "list(fundos['Nome_Fundo'].unique())"
   ]
  },
  {
   "cell_type": "markdown",
   "metadata": {},
   "source": [
    "Selecionou-se os fundos cuja taxa de inadimplência fosse válida, ou seja, apenas aqueles que a taxa de inadimplência fosse diferente de 0 e NaN"
   ]
  },
  {
   "cell_type": "code",
   "execution_count": null,
   "metadata": {},
   "outputs": [],
   "source": [
    "#Escolha das carteiras que serão utilizadas\n",
    "carteiras = [\n",
    "    'Carteira',\n",
    "    'Carteira_Industrial',\n",
    "    'Carteira_Mercado_Imobiliario',\n",
    "    'Carteira_Comercial_Total',\n",
    "    'Carteira_Comercial',\n",
    "    'Carteira_Comercial_Varejo',\n",
    "    'Carteira_Arrendamento_Mercantil',\n",
    "    'Carteira_Servicos_Total',\n",
    "    'Carteira_Servicos',\n",
    "    'Carteira_Servicos_Publicos',\n",
    "    'Carteira_Servicos_Educacionais',\n",
    "    'Carteira_Entretenimento',\n",
    "    'Carteira_Agronegocio',\n",
    "    'Carteira_Financeiro',\n",
    "    'Carteira_Credito_Pessoal_Consignado',\n",
    "    'Carteira_Credito_Corporativo',\n",
    "    'Carteira_Middle_Market',\n",
    "    'Carteira_Veiculos',\n",
    "    'Carteira_Imobiliaria_Empresarial',\n",
    "    'Carteira_Imobiliaria_Residencial',\n",
    "    'Carteira_Outros_Financeiro',\n",
    "    'Carteira_Cartao_Credito',\n",
    "    'Carteira_Factoring',\n",
    "    'Carteira_Factoring_Pessoal',\n",
    "    'Carteira_Factoring_Corporativo',\n",
    "    'Carteira_Setor_Publico',\n",
    "    'Carteira_Precatorios',\n",
    "    'Carteira_Creditos_Tributarios',\n",
    "    'Carteira_Royalties',\n",
    "    'Carteira_Outros_Setor_Publico',\n",
    "    'Carteira_Acoes_Judiciais',\n",
    "    'Carteira_Propriedade_Intelectual',\n",
    "]\n",
    "\n",
    "#Cálculo da soma das carteiras agrupadas pela taxa de inadimplência e \n",
    "# plot de um gráfico de barras para mostrar as taxas totais de inadimplência por carteira\n",
    "soma_carteiras = df_main.groupby('taxa_inadimplencia_series')[carteiras].sum()\n",
    "plt.figure(figsize=(14, 8))\n",
    "ax = sns.barplot(data=soma_carteiras, palette='magma')\n",
    "plt.title('Taxas de Inadimplência por Carteira')\n",
    "plt.ylabel('Taxa total de inadimplência')\n",
    "plt.xlabel('Carteira')\n",
    "plt.xticks(rotation=45, ha='right')\n",
    "\n",
    "plt.grid(True)\n",
    "plt.tight_layout()\n",
    "\n",
    "plt.show()"
   ]
  },
  {
   "cell_type": "markdown",
   "metadata": {},
   "source": [
    "O gráfico foi plotado com todos os tipos de carteira, avaliando a taxa de inadimplência de cada segmento."
   ]
  },
  {
   "cell_type": "code",
   "execution_count": null,
   "metadata": {},
   "outputs": [],
   "source": [
    "soma_carteiras.head(5)"
   ]
  },
  {
   "cell_type": "markdown",
   "metadata": {},
   "source": [
    "## K-means\n",
    "\n",
    "O K-means é um algoritmo de agrupamento de dados que divide um conjunto de pontos em grupos (clusters) com base em suas características similares, buscando minimizar a variância dentro de cada grupo."
   ]
  },
  {
   "cell_type": "code",
   "execution_count": null,
   "metadata": {},
   "outputs": [],
   "source": [
    "from sklearn.cluster import KMeans\n",
    "\n",
    "#Análise de cluster (K-means) com três clusters\n",
    "carteira_industrial = 'Carteira_Industrial'\n",
    "\n",
    "fundos = df_main[df_main[carteira_industrial].notna()]\n",
    "\n",
    "X = fundos[[carteira_industrial]]\n",
    "\n",
    "kmeans = KMeans(n_clusters=3)\n",
    "fundos['grupo'] = kmeans.fit_predict(X)\n",
    "\n",
    "#Criação de gráfico de dispersão para visualizar os grupos resultantes\n",
    "cores = ['#FFA500', '#00CED1', '#00008B']\n",
    "fig, ax = plt.subplots(figsize=(12, 8))\n",
    "\n",
    "for grupo in range(3):\n",
    "    grupo_df = fundos[fundos['grupo'] == grupo]\n",
    "    ax.scatter(grupo_df.index, grupo_df[carteira_industrial],\n",
    "               color=cores[grupo], label=f'Cluster {grupo}', s=100, alpha=0.7)\n",
    "\n",
    "ax.set_title(f'{carteira_industrial}', fontsize=16)\n",
    "ax.set_xlabel('.', fontsize=14)\n",
    "ax.set_ylabel('Inadimplência', fontsize=14)\n",
    "ax.set_xticks([])\n",
    "ax.legend(fontsize=12)\n",
    "ax.grid(True, linestyle='--', alpha=0.7)\n",
    "\n",
    "ax.set_facecolor('white')\n",
    "\n",
    "plt.tight_layout()\n",
    "plt.show()"
   ]
  },
  {
   "cell_type": "code",
   "execution_count": null,
   "metadata": {},
   "outputs": [],
   "source": [
    "#Filtrar o DataFrame \"fundos\" para selecionar cluster 1 e classificar os dados com base na coluna \"taxa_inadimplencia_series\" em ordem decrescente\n",
    "cluster1 = fundos[fundos['grupo'] == 1]\n",
    "\n",
    "cluster1 = cluster1.sort_values(by='taxa_inadimplencia_series', ascending=False)\n",
    "\n",
    "fundos_inadimplencia = cluster1.head(10)\n",
    "\n",
    "#Imprime informações relevantes sobre os fundos\n",
    "for index, row in fundos_inadimplencia.iterrows():\n",
    "    print(f'Nome do Fundo: {row[\"Nome_Fundo\"]}')\n",
    "    print(f'CNPJ do Fundo: {row[\"CNPJ\"]}')\n",
    "    print(f'Taxa de Inadimplência: {row[\"taxa_inadimplencia_series\"]}')\n",
    "    print(f'Data de competência: {row[\"Data_Competencia\"]}')\n",
    "    print('-' * 30)"
   ]
  },
  {
   "cell_type": "markdown",
   "metadata": {},
   "source": [
    "Mostra as maiores taxas de inadimplência do cluster 1, ou seja do cluster que agrupa as maiores taxas de inadimplência dos dados."
   ]
  },
  {
   "cell_type": "markdown",
   "metadata": {},
   "source": [
    "## DB Scan Industrial e Agronegócio"
   ]
  },
  {
   "cell_type": "markdown",
   "metadata": {},
   "source": [
    "## Importando dependências"
   ]
  },
  {
   "cell_type": "code",
   "execution_count": null,
   "metadata": {},
   "outputs": [],
   "source": [
    "import pandas as pd\n",
    "import numpy as np\n",
    "import matplotlib.pyplot as plt\n",
    "import plotly.express as px\n",
    "import plotly.graph_objects as go\n",
    "import seaborn as sns"
   ]
  },
  {
   "cell_type": "markdown",
   "metadata": {},
   "source": [
    "## Importando dados"
   ]
  },
  {
   "cell_type": "code",
   "execution_count": null,
   "metadata": {},
   "outputs": [],
   "source": [
    "google_id = '1teoxduT3bJAkrD0k1YIPn-mbVI83oQox'\n",
    "from google_drive_downloader import GoogleDriveDownloader as gdd\n",
    "gdd.download_file_from_google_drive(file_id=google_id,\n",
    "                                    dest_path = './dados_cvm.csv',\n",
    "                                    showsize = True)\n",
    "\n",
    "df_main = pd.read_csv('dados_cvm.csv')\n",
    "\n",
    "google_id = '1J0fF-82tDg70wjaNg2Q8OGxPikA7phqp'\n",
    "gdd.download_file_from_google_drive(file_id=google_id,\n",
    "                                    dest_path = './dados_classes.csv',\n",
    "                                    showsize = True)\n",
    "df_classes = pd.read_csv('dados_classes.csv')"
   ]
  },
  {
   "cell_type": "code",
   "execution_count": null,
   "metadata": {},
   "outputs": [],
   "source": [
    "# Eliminar as linhas com valores ausentes na coluna \"Patrimonio_Liquido\" e armazenar o DataFrame limpo em df_cleaned.\n",
    "df_cleaned = df_main.dropna(subset=[\"Patrimonio_Liquido\"])\n",
    "\n",
    "# Extrair a coluna \"Carteira_Direitos_Aquisicao_Inadimplentes\" do DataFrame limpo.\n",
    "inadimplentes = df_cleaned[\"Carteira_Direitos_Aquisicao_Inadimplentes\"]\n",
    "\n",
    "# Extrair a coluna \"Patrimonio_Liquido\" do DataFrame limpo.\n",
    "patrimonio_liquido = df_cleaned[\"Patrimonio_Liquido\"]\n",
    "\n",
    "# Calcular a taxa de inadimplência dividindo o número de inadimplentes pelo patrimonio liquido.\n",
    "taxa_inadimplencia = inadimplentes / patrimonio_liquido\n",
    "\n",
    "# Apresentar a taxa de inadimplência calculada.\n",
    "taxa_inadimplencia\n",
    "\n",
    "# Adicionar uma nova coluna denominada \"taxa_inadimplencia_series\" ao DataFrame original df_informe_mensal\n",
    "# e atribuir-lhe os valores da taxa de inadimplência calculada.\n",
    "df_main = df_main.assign(taxa_inadimplencia_series=taxa_inadimplencia)"
   ]
  },
  {
   "cell_type": "code",
   "execution_count": null,
   "metadata": {},
   "outputs": [],
   "source": [
    "#Criação do Dataframe \n",
    "fundos_inadimplentes = df_main[\n",
    "    (df_main['taxa_inadimplencia_series'] != 0) &\n",
    "    df_main['taxa_inadimplencia_series'].notna()\n",
    "]\n",
    "\n",
    "list(fundos_inadimplentes['Nome_Fundo'].unique())"
   ]
  },
  {
   "cell_type": "markdown",
   "metadata": {},
   "source": [
    "Selecionou-se as taxas de inadimplência que fosse válida, ou seja, apenas taxas diferentes de 0 e NaN. Em seguida, lista-se os fundos com taxas de inadimplência não nulas e diferentes de zero. "
   ]
  },
  {
   "cell_type": "code",
   "execution_count": null,
   "metadata": {},
   "outputs": [],
   "source": [
    "#Escolha das carteiras que serão utilizadas\n",
    "carteiras = [\n",
    "    'Carteira_Industrial',\n",
    "    'Carteira_Agronegocio',\n",
    "]\n",
    "\n",
    "#Calcular a soma das taxas de inadimplência agrupadas por carteira\n",
    "#Cria um gráfico de barras para mostrar as somas das taxas de inadimplência por carteira\n",
    "summed_data = df_main.groupby('taxa_inadimplencia_series')[carteiras].sum()\n",
    "plt.figure(figsize=(14, 8))\n",
    "ax = sns.barplot(data=summed_data, palette='viridis')\n",
    "plt.title('Sum of Default Rates by Portfolio')\n",
    "plt.xlabel('Total Default Rate')\n",
    "plt.ylabel('Portfolio')\n",
    "plt.xticks(rotation=45, ha='right')\n",
    "\n",
    "plt.grid(True)\n",
    "plt.tight_layout()\n",
    "\n",
    "plt.show()"
   ]
  },
  {
   "cell_type": "code",
   "execution_count": null,
   "metadata": {},
   "outputs": [],
   "source": [
    "#Acessar a coluna extraindo os valores armazenados \n",
    "df_main[\"Carteira_Industrial\"]"
   ]
  },
  {
   "cell_type": "code",
   "execution_count": null,
   "metadata": {},
   "outputs": [],
   "source": [
    "#Retorna uma séria de contagem, mostrando quantas vezes cada valor aparece\n",
    "df_main[\"Carteira_Industrial\"].value_counts()"
   ]
  },
  {
   "cell_type": "code",
   "execution_count": null,
   "metadata": {},
   "outputs": [],
   "source": [
    "#Retorna uma séria de contagem, mostrando quantas vezes cada valor aparece\n",
    "df_main[\"Carteira_Agronegocio\"].value_counts()"
   ]
  },
  {
   "cell_type": "code",
   "execution_count": null,
   "metadata": {},
   "outputs": [],
   "source": [
    "#Exibe as cinco primeiras linhas de \"summed_data\"\n",
    "#Atribui \"summed_data\" à variável \"X\" para ser usada posteriormente no código\n",
    "summed_data.head(5)\n",
    "X = summed_data"
   ]
  },
  {
   "cell_type": "markdown",
   "metadata": {},
   "source": [
    "## Carteira Industrial"
   ]
  },
  {
   "cell_type": "code",
   "execution_count": null,
   "metadata": {},
   "outputs": [],
   "source": [
    "import pandas as pd\n",
    "import numpy as np\n",
    "from sklearn.preprocessing import StandardScaler\n",
    "from sklearn.cluster import DBSCAN\n",
    "import matplotlib.pyplot as plt\n",
    "\n",
    "# Seleciona as colunas relevantes para o DBSCAN\n",
    "X = df_main[['Carteira_Industrial', 'Carteira_Agronegocio']]\n",
    "\n",
    "# Remove os valores NaN do DataFrame\n",
    "X.dropna(inplace=True)\n",
    "\n",
    "# Amostragem aleatória de 10% dos dados\n",
    "sampled_data = X.sample(frac=0.1, random_state=42)\n",
    "\n",
    "# Aplica o StandardScaler aos dados\n",
    "scaler = StandardScaler()\n",
    "X_scaled = scaler.fit_transform(sampled_data)\n",
    "\n",
    "# Cria clusters usando DBSCAN\n",
    "dbscan = DBSCAN(eps=0.5, min_samples=5)  # Ajuste os hiperparâmetros conforme necessário\n",
    "labels = dbscan.fit_predict(X_scaled)\n",
    "\n",
    "# Adiciona os rótulos dos clusters ao DataFrame original\n",
    "sampled_data['Cluster_Labels'] = labels\n",
    "\n",
    "# Visualiza os clusters\n",
    "plt.scatter(X_scaled[:, 0], X_scaled[:, 1], c=labels, cmap='viridis')\n",
    "plt.xlabel('Feature 1 (Carteira_Industrial)')\n",
    "plt.ylabel('Feature 2 (Carteira_Agronegocio)')\n",
    "plt.title('DBSCAN Clusters')\n",
    "plt.show()"
   ]
  },
  {
   "cell_type": "code",
   "execution_count": null,
   "metadata": {},
   "outputs": [],
   "source": [
    "sampled_data"
   ]
  },
  {
   "cell_type": "code",
   "execution_count": null,
   "metadata": {},
   "outputs": [],
   "source": [
    "#Retorna uma séria de contagem, mostrando quantas vezes cada valor aparece\n",
    "sampled_data[\"Cluster_Labels\"].value_counts()"
   ]
  },
  {
   "cell_type": "code",
   "execution_count": null,
   "metadata": {},
   "outputs": [],
   "source": [
    "#Função que recebe argumento \"n_cluster\" e filtra as linhas do DataFrame\n",
    "def selecionar_cluster(n_cluster):\n",
    "  df_cluster = sampled_data.loc[sampled_data[\"Cluster_Labels\"]==n_cluster]\n",
    "  return df_cluster"
   ]
  },
  {
   "cell_type": "code",
   "execution_count": null,
   "metadata": {},
   "outputs": [],
   "source": [
    "#Adicionar o número de clusters para verificação\n",
    "selecionar_cluster(0) "
   ]
  },
  {
   "cell_type": "code",
   "execution_count": null,
   "metadata": {},
   "outputs": [],
   "source": [
    "#Retorna uma séria de contagem, mostrando quantas vezes cada valor aparece\n",
    "sampled_data[\"Cluster_Labels\"].value_counts()\n",
    "\n",
    "#Cria gráfico de barras que mostra a distribuição dos clusters \n",
    "sampled_data.Cluster_Labels.value_counts().sort_values().plot(kind='bar', color=['green', 'lightgreen', 'yellow', 'purple', 'blue'])\n",
    "plt.title('Cluster')"
   ]
  },
  {
   "cell_type": "code",
   "execution_count": null,
   "metadata": {},
   "outputs": [],
   "source": [
    "#Cria novo DataFrame retendo apenas as linhas que não pertencem ao cluster 0\n",
    "df_cluster_s_0 = sampled_data.loc[sampled_data[\"Cluster_Labels\"]!=0]"
   ]
  },
  {
   "cell_type": "code",
   "execution_count": null,
   "metadata": {},
   "outputs": [],
   "source": [
    "#Demonstra a frequência dosclusters e cria um gráfico de barras que mostra a distribuição dos clusters\n",
    "df_cluster_s_0.Cluster_Labels.value_counts().sort_values().plot(kind='bar', color=['green', 'lightgreen', 'yellow', 'purple'])"
   ]
  },
  {
   "cell_type": "markdown",
   "metadata": {},
   "source": [
    "A análise que realizamos demonstra que existem muitos números zerados tanto em Carteira Industrial quanto em Carteira Agronegócio, sendo que a maior concentração de números zerados está contida na Carteira Agronegócio. Podemos verificar que existem mais Inadimplências em Agronegócio.\n",
    "\n",
    "Além disso, verificamos que o cluster -1 tem maior concentração de outliers."
   ]
  },
  {
   "cell_type": "markdown",
   "metadata": {},
   "source": [
    "# Escolha do modelo"
   ]
  },
  {
   "cell_type": "markdown",
   "metadata": {},
   "source": [
    "Ao analisar a separação dos clusters da carteira industrial entre os algoritmos, o modelo escolhido foi o K-Means, pelo fato da sua separação ter sido uma das mais lógicas em relação ao nível de inadimplência, apesar do modelo não classificar os fundos relacionando-os diretamente com as features. Logo, é possível concluir que nenhum dos modelos candidatos apresentou uma separação muito clara ou significativa entre os clusters. Enquanto o K-Means realizou uma separação em 3 partes proporcionais em relação ao target, o DBSCAN acabou formando um cluster muito grande por conta de uma densidade de dados muito alta em determina, resultando em uma divisão muito desigual e também pouco significativa."
   ]
  }
 ],
 "metadata": {
  "kernelspec": {
   "display_name": "Python 3",
   "language": "python",
   "name": "python3"
  },
  "language_info": {
   "codemirror_mode": {
    "name": "ipython",
    "version": 3
   },
   "file_extension": ".py",
   "mimetype": "text/x-python",
   "name": "python",
   "nbconvert_exporter": "python",
   "pygments_lexer": "ipython3",
   "version": "3.11.5"
  },
  "orig_nbformat": 4
 },
 "nbformat": 4,
 "nbformat_minor": 2
}
