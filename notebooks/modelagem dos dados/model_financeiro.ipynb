{
 "cells": [
  {
   "cell_type": "markdown",
   "metadata": {},
   "source": [
    "## Importando dependências"
   ]
  },
  {
   "cell_type": "code",
   "execution_count": null,
   "metadata": {},
   "outputs": [],
   "source": [
    "pip install --upgrade nbformat"
   ]
  },
  {
   "cell_type": "code",
   "execution_count": null,
   "metadata": {},
   "outputs": [],
   "source": [
    "!pip install nbformat"
   ]
  },
  {
   "cell_type": "code",
   "execution_count": null,
   "metadata": {},
   "outputs": [],
   "source": [
    "!pip install -U scikit_learn scipy missingpy"
   ]
  },
  {
   "cell_type": "code",
   "execution_count": null,
   "metadata": {},
   "outputs": [],
   "source": [
    "!python -m pip install scikit-learn"
   ]
  },
  {
   "cell_type": "code",
   "execution_count": null,
   "metadata": {},
   "outputs": [],
   "source": [
    "import pandas as pd\n",
    "import matplotlib.pyplot as plt\n",
    "import seaborn as sns\n",
    "import plotly.express as px\n",
    "import plotly.graph_objects as go"
   ]
  },
  {
   "cell_type": "markdown",
   "metadata": {},
   "source": [
    "## Importando dados"
   ]
  },
  {
   "cell_type": "code",
   "execution_count": null,
   "metadata": {},
   "outputs": [],
   "source": [
    "df_main = pd.read_csv('data/IM_230626_semNP.csv')"
   ]
  },
  {
   "cell_type": "markdown",
   "metadata": {},
   "source": [
    "## Escolha de K"
   ]
  },
  {
   "cell_type": "code",
   "execution_count": null,
   "metadata": {},
   "outputs": [],
   "source": [
    "from sklearn.pipeline import Pipeline\n",
    "from sklearn.preprocessing import StandardScaler\n",
    "from sklearn.decomposition import PCA\n",
    "import numpy as np"
   ]
  },
  {
   "cell_type": "code",
   "execution_count": null,
   "metadata": {},
   "outputs": [],
   "source": [
    "df_main = df_main.dropna(subset=[\"Patrimonio_Liquido\"])\n",
    "inadimplentes = df_main[\"Carteira_Direitos_Aquisicao_Inadimplentes\"]\n",
    "patrimonio_liquido = df_main[\"Patrimonio_Liquido\"]\n",
    "taxa_inadimplencia = inadimplentes / patrimonio_liquido\n",
    "\n",
    "df_main = df_main.assign(taxa_inadimplencia_series=taxa_inadimplencia)"
   ]
  },
  {
   "cell_type": "code",
   "execution_count": null,
   "metadata": {},
   "outputs": [],
   "source": [
    "df_inadimplencia = df_main[[\n",
    "'Patrimonio_Liquido',\n",
    "'Carteira_Direitos_Aquisicao_Inadimplentes']]"
   ]
  },
  {
   "cell_type": "code",
   "execution_count": null,
   "metadata": {},
   "outputs": [],
   "source": [
    "SEED = 1224\n",
    "np.random.seed(SEED)\n",
    "pca_pipeline = Pipeline([('scaler', StandardScaler()),('PCA', PCA(n_components=2, random_state=SEED))])"
   ]
  },
  {
   "cell_type": "markdown",
   "metadata": {},
   "source": [
    "Em relação à alta dimensionalidade, o algoritmo usa a distância euclidiana para determinar a associação de agrupamento, porém, quando temos uma alta dimensionalidade, pares de pontos começarão a ter distâncias muito semelhantes e não conseguiremos obter agrupamentos significativos. Para reduzir a quantidade de dados podemos utilizar a técnica chamada Análise de Componentes Principais (PCA).\n",
    "\n",
    "Usando os dois módulos de auxílio, a padronização dos dados com o StandardScaler e a redução de dimensionalidade com o PCA, quando necessário, os resultados obtidos com o K-Means serão melhores do que apenas aplicar ele diretamente nos dados."
   ]
  },
  {
   "cell_type": "code",
   "execution_count": null,
   "metadata": {},
   "outputs": [],
   "source": [
    "genre_embbeding_pca = pca_pipeline.fit_transform(df_inadimplencia)\n",
    "projection = pd.DataFrame(columns=['x', 'y'], data=genre_embbeding_pca)"
   ]
  },
  {
   "cell_type": "code",
   "execution_count": null,
   "metadata": {},
   "outputs": [],
   "source": [
    "projection"
   ]
  },
  {
   "cell_type": "code",
   "execution_count": null,
   "metadata": {},
   "outputs": [],
   "source": [
    "from sklearn.cluster import KMeans"
   ]
  },
  {
   "cell_type": "code",
   "execution_count": null,
   "metadata": {},
   "outputs": [],
   "source": [
    "kmeans_pca = KMeans(n_clusters=5, verbose=True, random_state=SEED)\n",
    "\n",
    "kmeans_pca.fit(projection)\n",
    "\n",
    "df_inadimplencia['cluster_pca'] = kmeans_pca.predict(projection)\n",
    "\n",
    "projection['cluster_pca'] = kmeans_pca.predict(projection)"
   ]
  },
  {
   "cell_type": "code",
   "execution_count": null,
   "metadata": {},
   "outputs": [],
   "source": [
    "projection['Carteira_Direitos_Aquisicao_Inadimplentes'] = df_main['Carteira_Direitos_Aquisicao_Inadimplentes']"
   ]
  },
  {
   "cell_type": "code",
   "execution_count": null,
   "metadata": {},
   "outputs": [],
   "source": [
    "projection"
   ]
  },
  {
   "cell_type": "code",
   "execution_count": null,
   "metadata": {},
   "outputs": [],
   "source": [
    "fig = px.scatter(projection, x='x', y='y', color='cluster_pca', hover_data=['x','y', 'Carteira_Direitos_Aquisicao_Inadimplentes'])\n",
    "fig.show()"
   ]
  },
  {
   "cell_type": "markdown",
   "metadata": {},
   "source": [
    "uma forma de avaliarmos se a cluster foi bem separada ou não, é utilizarmos um explained variance do PCA.\n",
    "\n",
    "Então vou colocar pca_pipeline[1].explained_variance_ratio_, estou passando a posição 1, porque a primeira, que seria 0, é do nosso StandardScaler, a 1 é do nosso PCA."
   ]
  },
  {
   "cell_type": "code",
   "execution_count": null,
   "metadata": {},
   "outputs": [],
   "source": [
    "pca_pipeline[1].explained_variance_ratio_.sum()"
   ]
  },
  {
   "cell_type": "code",
   "execution_count": null,
   "metadata": {},
   "outputs": [],
   "source": [
    "pca_pipeline[1].explained_variance_.sum()"
   ]
  },
  {
   "cell_type": "markdown",
   "metadata": {},
   "source": [
    "## Carteira financeiro"
   ]
  },
  {
   "cell_type": "markdown",
   "metadata": {},
   "source": [
    "A métrica utilizada será a taxa de inadimplência, calculada pela carteira de direitos de aquisição inadimplentes dividido pelo patrimônio líquido"
   ]
  },
  {
   "cell_type": "code",
   "execution_count": null,
   "metadata": {},
   "outputs": [],
   "source": [
    "df_main = df_main.dropna(subset=[\"Patrimonio_Liquido\"])\n",
    "inadimplentes = df_main[\"Carteira_Direitos_Aquisicao_Inadimplentes\"]\n",
    "patrimonio_liquido = df_main[\"Patrimonio_Liquido\"]\n",
    "taxa_inadimplencia = inadimplentes / patrimonio_liquido\n",
    "\n",
    "\n",
    "df_main = df_main.assign(taxa_inadimplencia_series=taxa_inadimplencia)\n"
   ]
  },
  {
   "cell_type": "code",
   "execution_count": null,
   "metadata": {},
   "outputs": [],
   "source": [
    "fundos = df_main[\n",
    "    (df_main['taxa_inadimplencia_series'] != 0) &\n",
    "    df_main['taxa_inadimplencia_series'].notna()\n",
    "]\n",
    "\n",
    "list(fundos['Nome_Fundo'].unique())"
   ]
  },
  {
   "cell_type": "markdown",
   "metadata": {},
   "source": [
    "selecionou-se os fundos cuja taxa de inadimplência fosse válida, ou seja, apenas aqueles que a taxa de inadimplência fosse diferente de 0 e NaN"
   ]
  },
  {
   "cell_type": "code",
   "execution_count": null,
   "metadata": {},
   "outputs": [],
   "source": [
    "carteiras = [\n",
    "    'Carteira',\n",
    "    'Carteira_Industrial',\n",
    "    'Carteira_Mercado_Imobiliario',\n",
    "    'Carteira_Comercial_Total',\n",
    "    'Carteira_Comercial',\n",
    "    'Carteira_Comercial_Varejo',\n",
    "    'Carteira_Arrendamento_Mercantil',\n",
    "    'Carteira_Servicos_Total',\n",
    "    'Carteira_Servicos',\n",
    "    'Carteira_Servicos_Publicos',\n",
    "    'Carteira_Servicos_Educacionais',\n",
    "    'Carteira_Entretenimento',\n",
    "    'Carteira_Agronegocio',\n",
    "    'Carteira_Financeiro',\n",
    "    'Carteira_Credito_Pessoal_Consignado',\n",
    "    'Carteira_Credito_Corporativo',\n",
    "    'Carteira_Middle_Market',\n",
    "    'Carteira_Veiculos',\n",
    "    'Carteira_Imobiliaria_Empresarial',\n",
    "    'Carteira_Imobiliaria_Residencial',\n",
    "    'Carteira_Outros_Financeiro',\n",
    "    'Carteira_Cartao_Credito',\n",
    "    'Carteira_Factoring',\n",
    "    'Carteira_Factoring_Pessoal',\n",
    "    'Carteira_Factoring_Corporativo',\n",
    "    'Carteira_Setor_Publico',\n",
    "    'Carteira_Precatorios',\n",
    "    'Carteira_Creditos_Tributarios',\n",
    "    'Carteira_Royalties',\n",
    "    'Carteira_Outros_Setor_Publico',\n",
    "    'Carteira_Acoes_Judiciais',\n",
    "    'Carteira_Propriedade_Intelectual',\n",
    "]\n",
    "\n",
    "soma_carteiras = df_main.groupby('taxa_inadimplencia_series')[carteiras].sum()\n",
    "plt.figure(figsize=(14, 8))\n",
    "ax = sns.barplot(data=soma_carteiras, palette='magma')\n",
    "plt.title('Taxas de Inadimplência por Carteira')\n",
    "plt.ylabel('Taxa total de inadimplência')\n",
    "plt.xlabel('Carteira')\n",
    "plt.xticks(rotation=45, ha='right')\n",
    "\n",
    "plt.grid(True)\n",
    "plt.tight_layout()\n",
    "\n",
    "plt.show()"
   ]
  },
  {
   "cell_type": "markdown",
   "metadata": {},
   "source": [
    "O gráfico foi plotado com todos os tipos de carteira, avaliando a taxa de inadimplência de cada segmento."
   ]
  },
  {
   "cell_type": "code",
   "execution_count": null,
   "metadata": {},
   "outputs": [],
   "source": [
    "soma_carteiras.head(5)"
   ]
  },
  {
   "cell_type": "markdown",
   "metadata": {},
   "source": [
    "## K-means\n",
    "\n",
    "O K-means é um algoritmo de agrupamento de dados que divide um conjunto de pontos em grupos (clusters) com base em suas características similares, buscando minimizar a variância dentro de cada grupo."
   ]
  },
  {
   "cell_type": "code",
   "execution_count": null,
   "metadata": {},
   "outputs": [],
   "source": [
    "from sklearn.cluster import KMeans\n",
    "\n",
    "carteira_financeiro = 'Carteira_Financeiro'\n",
    "\n",
    "fundos = df_main[df_main[carteira_financeiro].notna()]\n",
    "\n",
    "X = fundos[[carteira_financeiro]]\n",
    "\n",
    "kmeans = KMeans(n_clusters=3)\n",
    "fundos['grupo'] = kmeans.fit_predict(X)\n",
    "\n",
    "cores = ['#FFA500', '#00CED1', '#00008B']\n",
    "fig, ax = plt.subplots(figsize=(12, 8))\n",
    "\n",
    "for grupo in range(3):\n",
    "    grupo_df = fundos[fundos['grupo'] == grupo]\n",
    "    ax.scatter(grupo_df.index, grupo_df[carteira_financeiro],\n",
    "               color=cores[grupo], label=f'Cluster {grupo}', s=100, alpha=0.7)\n",
    "\n",
    "ax.set_title(f'{carteira_financeiro}', fontsize=16)\n",
    "ax.set_xlabel('.', fontsize=14)\n",
    "ax.set_ylabel('Inadimplência', fontsize=14)\n",
    "ax.set_xticks([])\n",
    "ax.legend(fontsize=12)\n",
    "ax.grid(True, linestyle='--', alpha=0.7)\n",
    "\n",
    "ax.set_facecolor('white')\n",
    "\n",
    "plt.tight_layout()\n",
    "plt.show()"
   ]
  },
  {
   "cell_type": "code",
   "execution_count": null,
   "metadata": {},
   "outputs": [],
   "source": [
    "cluster1 = fundos[fundos['grupo'] == 1]\n",
    "\n",
    "cluster1 = cluster1.sort_values(by='taxa_inadimplencia_series', ascending=False)\n",
    "\n",
    "fundos_inadimplencia = cluster1.head(10)\n",
    "\n",
    "for index, row in fundos_inadimplencia.iterrows():\n",
    "    print(f'Nome do Fundo: {row[\"Nome_Fundo\"]}')\n",
    "    print(f'CNPJ do Fundo: {row[\"CNPJ\"]}')\n",
    "    print(f'Taxa de Inadimplência: {row[\"taxa_inadimplencia_series\"]}')\n",
    "    print(f'Data de competência: {row[\"Data_Competencia\"]}')\n",
    "    print('-' * 30)\n"
   ]
  },
  {
   "cell_type": "markdown",
   "metadata": {},
   "source": [
    "Mostra as maiores taxas de inadimplência do cluster 1, ou seja do cluster que agrupa as maiores taxas de inadimplência dos dados."
   ]
  },
  {
   "cell_type": "markdown",
   "metadata": {},
   "source": [
    "#### Silhouette Score\n",
    "O Silhouette Score avalia a coesão interna dos clusters e a separação entre os clusters. Ele varia de -1 a 1, com valores mais próximos de 1 indicando um bom agrupamento. Um valor negativo sugere que os pontos podem ter sido atribuídos ao cluster errado."
   ]
  },
  {
   "cell_type": "code",
   "execution_count": null,
   "metadata": {},
   "outputs": [],
   "source": [
    "from sklearn.metrics import silhouette_score\n",
    "\n",
    "silhouette_avg = silhouette_score(X, fundos['grupo'])\n",
    "f'Coeficiente de Silhueta: {silhouette_avg}'"
   ]
  },
  {
   "cell_type": "markdown",
   "metadata": {},
   "source": [
    "#### Utilização do K-Means como Primeiro Modelo Candidato para o Problema\n",
    "\n",
    "Na busca por uma solução eficiente para o problema em questão, a escolha inicial recaiu sobre o algoritmo K-Means. O K-Means é um método de clustering (agrupamento) amplamente utilizado na análise de dados e aprendizado de máquina. Sua aplicação visa agrupar dados em clusters, onde cada cluster contém pontos de dados que são mais semelhantes entre si do que com pontos de dados de outros clusters.\n",
    "\n",
    "#### Justificativa para a Definição do K do Modelo\n",
    "\n",
    "A determinação do número de clusters (K) é crucial para o sucesso do K-Means. Nesse contexto, foi empregada a métrica do coeficiente de silhueta (silhouette score) para encontrar o valor mais adequado de K. O coeficiente de silhueta mede a similaridade média entre um objeto e seu cluster em relação aos outros clusters, variando de -1 (representando uma alocação de cluster inadequada) a 1 (indicação de uma alocação ideal).\n",
    "\n",
    "No teste realizado, o coeficiente de silhueta obteve um valor considerável de 0.9151350849612944. Esse resultado sugere que os clusters encontrados pelo K-Means são bem definidos e que a alocação de cada ponto de dados ao seu cluster é apropriada. Portanto, o valor de K utilizado nesse modelo é substancialmente apropriado para a tarefa, proporcionando uma segmentação eficaz dos dados."
   ]
  },
  {
   "cell_type": "markdown",
   "metadata": {},
   "source": [
    "## DBSCAN"
   ]
  },
  {
   "cell_type": "code",
   "execution_count": null,
   "metadata": {},
   "outputs": [],
   "source": [
    "from sklearn.cluster import DBSCAN\n",
    "\n",
    "scaler = StandardScaler()\n",
    "\n",
    "\n",
    "dbscan = DBSCAN(eps=.1, min_samples=10)\n",
    "\n",
    "carteira_financeiro = 'Carteira_Financeiro'\n",
    "\n",
    "X = fundos[[carteira_financeiro]]\n",
    "X = scaler.fit_transform(X)\n",
    "\n",
    "\n",
    "fundos['grupo'] = dbscan.fit_predict(X)\n",
    "\n",
    "fig, ax = plt.subplots(figsize=(12, 8))\n",
    "\n",
    "for grupo in range(len(fundos['grupo'].unique())):\n",
    "    grupo_df = fundos[fundos['grupo'] == grupo]\n",
    "    ax.scatter(grupo_df.index, grupo_df[carteira_financeiro],\n",
    "                label=f'Cluster {grupo}', s=100, alpha=0.7)\n",
    "\n",
    "ax.set_title(f'{carteira_financeiro}', fontsize=16)\n",
    "ax.set_xlabel('.', fontsize=14)\n",
    "ax.set_ylabel('Inadimplência', fontsize=14)\n",
    "ax.set_xticks([])\n",
    "ax.legend(fontsize=12)\n",
    "ax.grid(True, linestyle='--', alpha=0.7)\n",
    "\n",
    "ax.set_facecolor('white')\n",
    "\n",
    "plt.show()"
   ]
  },
  {
   "cell_type": "code",
   "execution_count": null,
   "metadata": {},
   "outputs": [],
   "source": [
    "fundos['grupo'].value_counts()"
   ]
  },
  {
   "cell_type": "code",
   "execution_count": null,
   "metadata": {},
   "outputs": [],
   "source": [
    "silhouette_avg = silhouette_score(X, fundos['grupo'])\n",
    "f'Coeficiente de Silhueta: {silhouette_avg}'"
   ]
  },
  {
   "cell_type": "markdown",
   "metadata": {},
   "source": [
    "# Escolha do modelo"
   ]
  },
  {
   "cell_type": "markdown",
   "metadata": {},
   "source": [
    "Ao analisar a separação dos clusters da carteira financeira entre os algoritmos, o modelo escolhido foi o K-Means, pelo fato da sua separação ter sido uma das mais lógicas em relação ao nível de inadimplência, apesar do modelo não classificar os fundos relacionando-os diretamente com as features. Logo, é possível concluir que nenhum dos modelos candidatos apresentou uma separação muito clara ou significativa entre os clusters. Enquanto o K-Means realizou uma separação em 3 partes proporcionais em relação ao target, o DBSCAN acabou formando um cluster muito grande por conta de uma densidade de dados muito alta em determina, resultando em uma divisão muito desigual e também pouco significativa."
   ]
  }
 ],
 "metadata": {
  "kernelspec": {
   "display_name": "Python 3",
   "language": "python",
   "name": "python3"
  },
  "language_info": {
   "codemirror_mode": {
    "name": "ipython",
    "version": 3
   },
   "file_extension": ".py",
   "mimetype": "text/x-python",
   "name": "python",
   "nbconvert_exporter": "python",
   "pygments_lexer": "ipython3",
   "version": "3.10.11"
  },
  "orig_nbformat": 4
 },
 "nbformat": 4,
 "nbformat_minor": 2
}
