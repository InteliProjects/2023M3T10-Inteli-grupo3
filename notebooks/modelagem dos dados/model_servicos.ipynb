{
 "cells": [
  {
   "cell_type": "markdown",
   "metadata": {},
   "source": [
    "## Importando dependências"
   ]
  },
  {
   "cell_type": "code",
   "execution_count": null,
   "metadata": {},
   "outputs": [],
   "source": [
    "!python -m pip install scikit-learn"
   ]
  },
  {
   "cell_type": "code",
   "execution_count": null,
   "metadata": {},
   "outputs": [],
   "source": [
    "import pandas as pd\n",
    "import matplotlib.pyplot as plt\n",
    "import seaborn as sns"
   ]
  },
  {
   "cell_type": "markdown",
   "metadata": {},
   "source": [
    "## Importando dados"
   ]
  },
  {
   "cell_type": "code",
   "execution_count": null,
   "metadata": {},
   "outputs": [],
   "source": [
    "df_main = pd.read_csv('data/IM_230626_semNP.csv')"
   ]
  },
  {
   "cell_type": "markdown",
   "metadata": {},
   "source": [
    "## Carteira Serviços"
   ]
  },
  {
   "cell_type": "markdown",
   "metadata": {},
   "source": [
    "A métrica utilizada será a taxa de inadimplência, calculada pela carteira de direitos de aquisição inadimplentes dividido pelo patrimônio líquido"
   ]
  },
  {
   "cell_type": "code",
   "execution_count": null,
   "metadata": {},
   "outputs": [],
   "source": [
    "#Cálculo da taxa de inadimplência em df_main, onde a taxa é definida pela divisão da coluna \"Carteira_Direitos_Aquisicao_Inadimplentes\" pela coluna \"Patrimonio_Liquido\". \n",
    "df_main = df_main.dropna(subset=[\"Patrimonio_Liquido\"])\n",
    "inadimplentes = df_main[\"Carteira_Direitos_Aquisicao_Inadimplentes\"]\n",
    "patrimonio_liquido = df_main[\"Patrimonio_Liquido\"]\n",
    "taxa_inadimplencia = inadimplentes / patrimonio_liquido\n",
    "\n",
    "#Adição da taxa como uma nova coluna no DataFrame\n",
    "df_main = df_main.assign(taxa_inadimplencia_series=taxa_inadimplencia)"
   ]
  },
  {
   "cell_type": "code",
   "execution_count": null,
   "metadata": {},
   "outputs": [],
   "source": [
    "fundos = df_main[\n",
    "    (df_main['taxa_inadimplencia_series'] != 0) &\n",
    "    df_main['taxa_inadimplencia_series'].notna()\n",
    "]\n",
    "\n",
    "list(fundos['Nome_Fundo'].unique())"
   ]
  },
  {
   "cell_type": "markdown",
   "metadata": {},
   "source": [
    "Selecionou-se os fundos cuja taxa de inadimplência fosse válida, ou seja, apenas aqueles que a taxa de inadimplência fosse diferente de 0 e NaN"
   ]
  },
  {
   "cell_type": "code",
   "execution_count": null,
   "metadata": {},
   "outputs": [],
   "source": [
    "#Escolha das carteiras que serão utilizadas\n",
    "carteiras = [\n",
    "    'Carteira',\n",
    "    'Carteira_Industrial',\n",
    "    'Carteira_Mercado_Imobiliario',\n",
    "    'Carteira_Comercial_Total',\n",
    "    'Carteira_Comercial',\n",
    "    'Carteira_Comercial_Varejo',\n",
    "    'Carteira_Arrendamento_Mercantil',\n",
    "    'Carteira_Servicos_Total',\n",
    "    'Carteira_Servicos',\n",
    "    'Carteira_Servicos_Publicos',\n",
    "    'Carteira_Servicos_Educacionais',\n",
    "    'Carteira_Entretenimento',\n",
    "    'Carteira_Agronegocio',\n",
    "    'Carteira_Financeiro',\n",
    "    'Carteira_Credito_Pessoal_Consignado',\n",
    "    'Carteira_Credito_Corporativo',\n",
    "    'Carteira_Middle_Market',\n",
    "    'Carteira_Veiculos',\n",
    "    'Carteira_Imobiliaria_Empresarial',\n",
    "    'Carteira_Imobiliaria_Residencial',\n",
    "    'Carteira_Outros_Financeiro',\n",
    "    'Carteira_Cartao_Credito',\n",
    "    'Carteira_Factoring',\n",
    "    'Carteira_Factoring_Pessoal',\n",
    "    'Carteira_Factoring_Corporativo',\n",
    "    'Carteira_Setor_Publico',\n",
    "    'Carteira_Precatorios',\n",
    "    'Carteira_Creditos_Tributarios',\n",
    "    'Carteira_Royalties',\n",
    "    'Carteira_Outros_Setor_Publico',\n",
    "    'Carteira_Acoes_Judiciais',\n",
    "    'Carteira_Propriedade_Intelectual',\n",
    "]\n",
    "\n",
    "#Cálculo da soma das carteiras agrupadas pela taxa de inadimplência e \n",
    "# plot de um gráfico de barras para mostrar as taxas totais de inadimplência por carteira\n",
    "soma_carteiras = df_main.groupby('taxa_inadimplencia_series')[carteiras].sum()\n",
    "plt.figure(figsize=(14, 8))\n",
    "ax = sns.barplot(data=soma_carteiras, palette='magma')\n",
    "plt.title('Taxas de Inadimplência por Carteira')\n",
    "plt.ylabel('Taxa total de inadimplência')\n",
    "plt.xlabel('Carteira')\n",
    "plt.xticks(rotation=45, ha='right')\n",
    "\n",
    "plt.grid(True)\n",
    "plt.tight_layout()\n",
    "\n",
    "plt.show()"
   ]
  },
  {
   "cell_type": "markdown",
   "metadata": {},
   "source": [
    "O gráfico foi plotado com todos os tipos de carteira, avaliando a taxa de inadimplência de cada segmento."
   ]
  },
  {
   "cell_type": "code",
   "execution_count": null,
   "metadata": {},
   "outputs": [],
   "source": [
    "soma_carteiras.head(5)"
   ]
  },
  {
   "cell_type": "markdown",
   "metadata": {},
   "source": [
    "## K-means\n",
    "\n",
    "O K-means é um algoritmo de agrupamento de dados que divide um conjunto de pontos em grupos (clusters) com base em suas características similares, buscando minimizar a variância dentro de cada grupo."
   ]
  },
  {
   "cell_type": "code",
   "execution_count": null,
   "metadata": {},
   "outputs": [],
   "source": [
    "from sklearn.cluster import KMeans\n",
    "\n",
    "#Análise de cluster (K-means) com três clusters\n",
    "carteira_servicos = 'Carteira_Servicos'\n",
    "\n",
    "fundos = df_main[df_main[carteira_servicos].notna()]\n",
    "\n",
    "X = fundos[[carteira_servicos]]\n",
    "\n",
    "kmeans = KMeans(n_clusters=3)\n",
    "fundos['grupo'] = kmeans.fit_predict(X)\n",
    "\n",
    "#Criação de gráfico de dispersão para visualizar os grupos resultantes\n",
    "cores = ['#FFA500', '#00CED1', '#00008B']\n",
    "fig, ax = plt.subplots(figsize=(12, 8))\n",
    "\n",
    "for grupo in range(3):\n",
    "    grupo_df = fundos[fundos['grupo'] == grupo]\n",
    "    ax.scatter(grupo_df.index, grupo_df[carteira_servicos],\n",
    "               color=cores[grupo], label=f'Cluster {grupo}', s=100, alpha=0.7)\n",
    "\n",
    "ax.set_title(f'{carteira_servicos}', fontsize=16)\n",
    "ax.set_xlabel('.', fontsize=14)\n",
    "ax.set_ylabel('Inadimplência', fontsize=14)\n",
    "ax.set_xticks([])\n",
    "ax.legend(fontsize=12)\n",
    "ax.grid(True, linestyle='--', alpha=0.7)\n",
    "\n",
    "ax.set_facecolor('white')\n",
    "\n",
    "plt.tight_layout()\n",
    "plt.show()"
   ]
  },
  {
   "cell_type": "code",
   "execution_count": null,
   "metadata": {},
   "outputs": [],
   "source": [
    "#Filtrar o DataFrame \"fundos\" para selecionar cluster 1 e classificar os dados com base na coluna \"taxa_inadimplencia_series\" em ordem decrescente\n",
    "cluster1 = fundos[fundos['grupo'] == 1]\n",
    "\n",
    "cluster1 = cluster1.sort_values(by='taxa_inadimplencia_series', ascending=False)\n",
    "\n",
    "fundos_inadimplencia = cluster1.head(10)\n",
    "\n",
    "#Imprime informações relevantes sobre os fundos\n",
    "for index, row in fundos_inadimplencia.iterrows():\n",
    "    print(f'Nome do Fundo: {row[\"Nome_Fundo\"]}')\n",
    "    print(f'CNPJ do Fundo: {row[\"CNPJ\"]}')\n",
    "    print(f'Taxa de Inadimplência: {row[\"taxa_inadimplencia_series\"]}')\n",
    "    print(f'Data de competência: {row[\"Data_Competencia\"]}')\n",
    "    print('-' * 30)"
   ]
  },
  {
   "cell_type": "markdown",
   "metadata": {},
   "source": [
    "Mostra as maiores taxas de inadimplência do cluster 1, ou seja do cluster que agrupa as maiores taxas de inadimplência dos dados."
   ]
  },
  {
   "cell_type": "markdown",
   "metadata": {},
   "source": [
    "# Escolha do modelo"
   ]
  },
  {
   "cell_type": "markdown",
   "metadata": {},
   "source": [
    "Ao analisar a separação dos clusters da carteira comercial entre os algoritmos, o modelo escolhido foi o K-Means, pelo fato da sua separação ter sido uma das mais lógicas em relação ao nível de inadimplência, apesar do modelo não classificar os fundos relacionando-os diretamente com as features. Logo, é possível concluir que nenhum dos modelos candidatos apresentou uma separação muito clara ou significativa entre os clusters. Enquanto o K-Means e o Mini Batch K-Means realizaram uma separação em 3 partes proporcionais em relação ao target, o Mean Shift e o DBSCAN acabaram formando um cluster muito grande por conta de uma densidade de dados muito alta em determina, resultando em uma divisão muito desigual e também pouco significativa."
   ]
  }
 ],
 "metadata": {
  "kernelspec": {
   "display_name": "Python 3",
   "language": "python",
   "name": "python3"
  },
  "language_info": {
   "codemirror_mode": {
    "name": "ipython",
    "version": 3
   },
   "file_extension": ".py",
   "mimetype": "text/x-python",
   "name": "python",
   "nbconvert_exporter": "python",
   "pygments_lexer": "ipython3",
   "version": "3.11.5"
  },
  "orig_nbformat": 4
 },
 "nbformat": 4,
 "nbformat_minor": 2
}
